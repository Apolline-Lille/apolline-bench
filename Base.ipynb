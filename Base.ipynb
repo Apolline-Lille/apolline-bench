{
 "cells": [
  {
   "cell_type": "markdown",
   "metadata": {},
   "source": [
    "# Calculé sur la base"
   ]
  },
  {
   "cell_type": "code",
   "execution_count": 1,
   "metadata": {
    "collapsed": false
   },
   "outputs": [],
   "source": [
    "#!pip install influxdb\n",
    "import numpy as np\n",
    "import math\n",
    "import matplotlib.pyplot as plt\n",
    "from influxdb import InfluxDBClient"
   ]
  },
  {
   "cell_type": "markdown",
   "metadata": {},
   "source": [
    "Rechercher selon le temps prédéterminé. Format du temps(YYYY-MM-DD HH:MM:SS.mmm. où mmm est le milliseconds)"
   ]
  },
  {
   "cell_type": "code",
   "execution_count": 2,
   "metadata": {
    "collapsed": true
   },
   "outputs": [],
   "source": [
    "stime='2017-01-27 08:00:00.000'\n",
    "ftime='2017-01-27 17:30:00.000'"
   ]
  },
  {
   "cell_type": "code",
   "execution_count": 3,
   "metadata": {
    "collapsed": true
   },
   "outputs": [],
   "source": [
    "client = InfluxDBClient('apolline.lille.inria.fr', '8086', 'Apolline', 'PC2A', 'apolline')\n",
    "results = client.query('select * from \"events.stats.rasp8\" where time >\\'%s\\' and time <\\'%s\\';'%(stime,ftime))\n",
    "points = list(results.get_points())"
   ]
  },
  {
   "cell_type": "markdown",
   "metadata": {},
   "source": [
    "L'extraction du teneur de CO2"
   ]
  },
  {
   "cell_type": "code",
   "execution_count": 4,
   "metadata": {
    "collapsed": true
   },
   "outputs": [],
   "source": [
    "x=[]\n",
    "y=[]\n",
    "def readData():\n",
    "    for i in range(len(points)):\n",
    "        x.append(i)\n",
    "        y.append(points[i]['CO2'])\n",
    "    return x,y"
   ]
  },
  {
   "cell_type": "code",
   "execution_count": 5,
   "metadata": {
    "collapsed": false
   },
   "outputs": [
    {
     "data": {
      "image/png": "[encoded data removed]",
      "text/plain": [
       "<matplotlib.figure.Figure at 0x7fa0d371ea20>"
      ]
     },
     "metadata": {},
     "output_type": "display_data"
    }
   ],
   "source": [
    "x,y=readData()\n",
    "plt.plot(x,y,'-',label='original values')\n",
    "plt.grid()\n",
    "plt.show()"
   ]
  },
  {
   "cell_type": "markdown",
   "metadata": {},
   "source": [
    "Obtenez la valeur moyen du une Période de temps"
   ]
  },
  {
   "cell_type": "code",
   "execution_count": 6,
   "metadata": {
    "collapsed": false,
    "scrolled": true
   },
   "outputs": [
    {
     "name": "stdout",
     "output_type": "stream",
     "text": [
      "the avg temperature is 1293.776235\n"
     ]
    }
   ],
   "source": [
    "n,t=0,0\n",
    "for point in points:\n",
    "    n+=1\n",
    "    t+=point['CO2']    \n",
    "avg=float(t/n)\n",
    "print(\"the avg temperature is %f\"%(avg))"
   ]
  },
  {
   "cell_type": "markdown",
   "metadata": {
    "collapsed": true
   },
   "source": [
    "Calculer la fluctuation du une Période de temps"
   ]
  },
  {
   "cell_type": "code",
   "execution_count": 9,
   "metadata": {
    "collapsed": false
   },
   "outputs": [
    {
     "name": "stdout",
     "output_type": "stream",
     "text": [
      "the fluctuation(variance) of temperature is 16.950820\n"
     ]
    }
   ],
   "source": [
    "dev=0\n",
    "for point in points:\n",
    "    dev=math.pow((point['CO2']-avg),2)\n",
    "stdevp=float(dev/n)\n",
    "print(\"the fluctuation(variance) of temperature is %f\"%(stdevp))"
   ]
  },
  {
   "cell_type": "markdown",
   "metadata": {},
   "source": [
    "Obtenez la maximale valeur du une Période de temps"
   ]
  },
  {
   "cell_type": "code",
   "execution_count": 10,
   "metadata": {
    "collapsed": true
   },
   "outputs": [],
   "source": [
    "maxstime='2017-01-27 08:00:00.000'\n",
    "maxftime='2017-01-27 17:30:00.000'"
   ]
  },
  {
   "cell_type": "code",
   "execution_count": 11,
   "metadata": {
    "collapsed": false
   },
   "outputs": [
    {
     "name": "stdout",
     "output_type": "stream",
     "text": [
      "the max CO2 is 1827 at 2017-01-27T15:26:43.082587588Z\n"
     ]
    }
   ],
   "source": [
    "resultMax = client.query('SELECT max(CO2) FROM \"events.stats.rasp8\" where time >\\'%s\\' and time <\\'%s\\';'%(maxstime,maxftime))\n",
    "resultMax=list(resultMax.get_points())\n",
    "print(\"the max CO2 is %d at %s\"%(resultMax[0]['max'],resultMax[0]['time']))"
   ]
  },
  {
   "cell_type": "markdown",
   "metadata": {
    "collapsed": false
   },
   "source": [
    "Obtenez la minimale valeur du une Période de temps"
   ]
  },
  {
   "cell_type": "code",
   "execution_count": 12,
   "metadata": {
    "collapsed": true
   },
   "outputs": [],
   "source": [
    "minstime='2017-01-27 08:00:00.000'\n",
    "minftime='2017-01-27 17:30:00.000'"
   ]
  },
  {
   "cell_type": "code",
   "execution_count": 13,
   "metadata": {
    "collapsed": false
   },
   "outputs": [
    {
     "name": "stdout",
     "output_type": "stream",
     "text": [
      "the min CO2 is 599 at 2017-01-27T08:05:17.930156323Z\n"
     ]
    }
   ],
   "source": [
    "resultMin = client.query('SELECT min(CO2) FROM \"events.stats.rasp8\" where time >\\'%s\\' and time <\\'%s\\';'%(minstime,minftime))\n",
    "resultMin=list(resultMin.get_points())\n",
    "print(\"the min CO2 is %d at %s\"%(resultMin[0]['min'],resultMin[0]['time']))"
   ]
  },
  {
   "cell_type": "code",
   "execution_count": null,
   "metadata": {
    "collapsed": true
   },
   "outputs": [],
   "source": []
  }
 ],
 "metadata": {
  "anaconda-cloud": {},
  "kernelspec": {
   "display_name": "Python [default]",
   "language": "python",
   "name": "python3"
  },
  "language_info": {
   "codemirror_mode": {
    "name": "ipython",
    "version": 3
   },
   "file_extension": ".py",
   "mimetype": "text/x-python",
   "name": "python",
   "nbconvert_exporter": "python",
   "pygments_lexer": "ipython3",
   "version": "3.5.2"
  }
 },
 "nbformat": 4,
 "nbformat_minor": 2
}
