{
 "cells": [
  {
   "cell_type": "code",
   "execution_count": 1,
   "metadata": {
    "collapsed": true
   },
   "outputs": [],
   "source": [
    "from scipy.spatial.distance import euclidean"
   ]
  },
  {
   "cell_type": "markdown",
   "metadata": {},
   "source": [
    "C'est un exemple pour vérifier la distance dans deux fonctions.\n",
    "J'ai utilisé \"Ajustement\" degree \"4\". \n",
    "u est obtenu avec les datas de 2017-01-10 soir.  \n",
    "v1 est obtenu avec les datas de 2017-01-19 soir. \n",
    "v1 est obtenu avec les datas de 2017-01-19 jour. soir(18h~08h), jour(08h~18h)\n"
   ]
  },
  {
   "cell_type": "code",
   "execution_count": 2,
   "metadata": {
    "collapsed": true
   },
   "outputs": [],
   "source": [
    "u=[801.24339775259011, -0.23045672885942087, 0.00011589627181343717, -2.8946280402445692e-08, 2.6272872766242017e-12]\n",
    "v1=[7.82950668e+02,  -3.02492130e-01,   1.97858907e-04,  -5.81585062e-08, 5.90544280e-12]\n",
    "v2=[1.17411449e-03,   1.13527827e+00,  -4.07379501e-04,   5.04156408e-08, -1.98752126e-12]"
   ]
  },
  {
   "cell_type": "code",
   "execution_count": 4,
   "metadata": {
    "collapsed": false
   },
   "outputs": [
    {
     "name": "stdout",
     "output_type": "stream",
     "text": [
      "18.292871587233993\n",
      "801.2433876001026\n"
     ]
    }
   ],
   "source": [
    "print(euclidean(u,v1))\n",
    "print(euclidean(u,v2))"
   ]
  },
  {
   "cell_type": "markdown",
   "metadata": {},
   "source": [
    "On peut regarder la difféence entre u et v1 (deux soirs) est petit."
   ]
  }
 ],
 "metadata": {
  "anaconda-cloud": {},
  "kernelspec": {
   "display_name": "Python [default]",
   "language": "python",
   "name": "python3"
  },
  "language_info": {
   "codemirror_mode": {
    "name": "ipython",
    "version": 3
   },
   "file_extension": ".py",
   "mimetype": "text/x-python",
   "name": "python",
   "nbconvert_exporter": "python",
   "pygments_lexer": "ipython3",
   "version": "3.5.2"
  }
 },
 "nbformat": 4,
 "nbformat_minor": 1
}
