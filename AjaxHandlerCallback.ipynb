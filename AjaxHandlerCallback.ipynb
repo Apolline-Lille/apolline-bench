{
 "cells": [
  {
   "cell_type": "markdown",
   "metadata": {},
   "source": [
    "Callback est une fonction de rappel, le serveur l'appele après avoir reçu une demande, il va expédier la commande au module approprié. Il manque l'interface \"index.html\"."
   ]
  },
  {
   "cell_type": "code",
   "execution_count": null,
   "metadata": {
    "collapsed": false
   },
   "outputs": [],
   "source": [
    "# %load AjaxHandler.py\n",
    "#!/usr/bin/env python3\n",
    "\n",
    "import http.server  \n",
    "      \n",
    "callback = None  \n",
    "      \n",
    "class AjaxHandler(http.server.BaseHTTPRequestHandler):  \n",
    "    def do_GET(self):  \n",
    "        contenttype = callback(self.path)  \n",
    "        self.send_response(200)  \n",
    "        self.send_header(\"Content-type\", contenttype[1])  \n",
    "        self.end_headers()  \n",
    "        self.wfile.write(contenttype[0])"
   ]
  },
  {
   "cell_type": "code",
   "execution_count": 6,
   "metadata": {
    "collapsed": true
   },
   "outputs": [],
   "source": [
    "import AjaxHandler\n",
    "import http.server \n",
    "\n",
    "PORT = 8080  "
   ]
  },
  {
   "cell_type": "code",
   "execution_count": 7,
   "metadata": {
    "collapsed": true
   },
   "outputs": [],
   "source": [
    "def AjaxHandlerCallbackFunc(path):  \n",
    "    content = b\"None\"  \n",
    "    contenttype = \"text/plain\"  \n",
    "    pathlist = path.split('?', 1)  \n",
    "    if(pathlist[0] == \"/\"):  \n",
    "        if(len(pathlist) == 1):  \n",
    "            f = open(\"index.html\", \"rb\")  \n",
    "            content = f.read()  \n",
    "            contenttype = \"text/html\"  \n",
    "            f.close()  \n",
    "        else:  \n",
    "            args = pathlist[1].split('&')  \n",
    "            cmd = args[0].split('=')  \n",
    "            if cmd[0] == \"cmd\":  \n",
    "                params = {}  \n",
    "                if len(args) > 1:  \n",
    "                    for arg in args[1:]:  \n",
    "                        param = arg.split('=')  \n",
    "                        val = param[1]  \n",
    "                        try:  \n",
    "                            val = int(val)  \n",
    "                        except ValueError:  \n",
    "                            try:  \n",
    "                                val = float(val)  \n",
    "                            except ValueError:  \n",
    "                                pass  \n",
    "                        params[param[0]] = val  \n",
    "                content = DispatchCmd(cmd[1], params)  \n",
    "    elif(pathlist[0] == \"/favicon.ico\"):  \n",
    "        f = open(\"test.png\", \"rb\")  \n",
    "        content = f.read()  \n",
    "        contenttype = \"image/png\"  \n",
    "        f.close()  \n",
    "    return (content, contenttype) \n",
    "      \n",
    "def DispatchCmd(cmd, args):  \n",
    "    return str({cmd:args}).encode()"
   ]
  },
  {
   "cell_type": "code",
   "execution_count": 8,
   "metadata": {
    "collapsed": false
   },
   "outputs": [
    {
     "name": "stdout",
     "output_type": "stream",
     "text": [
      "HTTP server is starting at port 8080...\n",
      "Press Ctrl+C to quit\n",
      "Shutting down server\n"
     ]
    }
   ],
   "source": [
    "if __name__ == \"__main__\":  \n",
    "    try:  \n",
    "        AjaxHandler.callback = AjaxHandlerCallbackFunc  \n",
    "        server = http.server.HTTPServer((\"\", PORT), AjaxHandler.AjaxHandler)  \n",
    "        print(\"HTTP server is starting at port \"+repr(PORT)+'...')  \n",
    "        print(\"Press Ctrl+C to quit\")  \n",
    "        server.serve_forever()  \n",
    "    except KeyboardInterrupt:  \n",
    "        print(\"Shutting down server\")  \n",
    "        server.socket.close()  "
   ]
  },
  {
   "cell_type": "code",
   "execution_count": null,
   "metadata": {
    "collapsed": true
   },
   "outputs": [],
   "source": []
  }
 ],
 "metadata": {
  "anaconda-cloud": {},
  "kernelspec": {
   "display_name": "Python [default]",
   "language": "python",
   "name": "python3"
  },
  "language_info": {
   "codemirror_mode": {
    "name": "ipython",
    "version": 3
   },
   "file_extension": ".py",
   "mimetype": "text/x-python",
   "name": "python",
   "nbconvert_exporter": "python",
   "pygments_lexer": "ipython3",
   "version": "3.5.2"
  }
 },
 "nbformat": 4,
 "nbformat_minor": 2
}
